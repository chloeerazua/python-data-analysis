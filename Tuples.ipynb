{
 "cells": [
  {
   "cell_type": "code",
   "execution_count": 1,
   "metadata": {},
   "outputs": [
    {
     "name": "stdout",
     "output_type": "stream",
     "text": [
      "('NPower', 'JDA', 'Tuesday', 30, 3, 2021)\n"
     ]
    }
   ],
   "source": [
    "#Q1 Create myTuple tuple with the follwoing values (\"NPower\",\"JDA\",\"Tuesday\",30,3,2021)\n",
    "myTuple = (\"NPower\", \"JDA\", \"Tuesday\", 30, 3, 2021)\n",
    "print(myTuple)"
   ]
  },
  {
   "cell_type": "code",
   "execution_count": 2,
   "metadata": {},
   "outputs": [
    {
     "data": {
      "text/plain": [
       "tuple"
      ]
     },
     "execution_count": 2,
     "metadata": {},
     "output_type": "execute_result"
    }
   ],
   "source": [
    "#Q2 What is the type of myTuple\n",
    "type(myTuple)"
   ]
  },
  {
   "cell_type": "code",
   "execution_count": 3,
   "metadata": {},
   "outputs": [
    {
     "data": {
      "text/plain": [
       "6"
      ]
     },
     "execution_count": 3,
     "metadata": {},
     "output_type": "execute_result"
    }
   ],
   "source": [
    "#Q3 What is the length of myTuple\n",
    "len(myTuple)"
   ]
  },
  {
   "cell_type": "code",
   "execution_count": 4,
   "metadata": {},
   "outputs": [
    {
     "name": "stdout",
     "output_type": "stream",
     "text": [
      "NPower JDA Tuesday 30 3 2021\n"
     ]
    }
   ],
   "source": [
    "#Q4 print the values in each index #Use regular indexing \n",
    "print(myTuple[0], myTuple[1], myTuple[2], myTuple[3], myTuple[4], myTuple[5])"
   ]
  },
  {
   "cell_type": "code",
   "execution_count": 5,
   "metadata": {},
   "outputs": [
    {
     "name": "stdout",
     "output_type": "stream",
     "text": [
      "NPower JDA Tuesday 30 3 2021\n"
     ]
    }
   ],
   "source": [
    "#Q5 print the values in each index #Use negative indexing \n",
    "print(myTuple[-6], myTuple[-5], myTuple[-4], myTuple[-3], myTuple[-2], myTuple[-1])"
   ]
  },
  {
   "cell_type": "code",
   "execution_count": 6,
   "metadata": {},
   "outputs": [
    {
     "name": "stdout",
     "output_type": "stream",
     "text": [
      "<class 'str'> <class 'str'> <class 'str'> <class 'int'> <class 'int'> <class 'int'>\n"
     ]
    }
   ],
   "source": [
    "#Q6 what is the type of each value\n",
    "print(type(myTuple[0]), type(myTuple[1]), type(myTuple[2]), type(myTuple[3]), type(myTuple[4]), type(myTuple[5]))"
   ]
  },
  {
   "cell_type": "code",
   "execution_count": 7,
   "metadata": {},
   "outputs": [
    {
     "name": "stdout",
     "output_type": "stream",
     "text": [
      "Name is: NPower\n",
      "Program is: JDA\n",
      "dayName is: Tuesday\n",
      "Month is: 30\n",
      "Day is: 3\n",
      "Year is: 2021\n"
     ]
    }
   ],
   "source": [
    "#Q7 unpack myTuple in the follwoing variables name,program,dayName,month,day,year accordingly \n",
    "# print the variables \n",
    "name,program,dayName,month,day,year=myTuple\n",
    "print(\"Name is:\", name)\n",
    "print(\"Program is:\", program)\n",
    "print(\"dayName is:\", dayName)\n",
    "print(\"Month is:\", month)\n",
    "print(\"Day is:\", day)\n",
    "print(\"Year is:\", year)"
   ]
  },
  {
   "cell_type": "code",
   "execution_count": 8,
   "metadata": {},
   "outputs": [
    {
     "name": "stdout",
     "output_type": "stream",
     "text": [
      "Name is: Test\n",
      "Program is: Data Analysis\n",
      "dayName is: Tues\n",
      "Month is: 30\n",
      "Day is: 3\n",
      "Year is: 2021\n"
     ]
    }
   ],
   "source": [
    "#Q8 unpack myTuple2 in the follwoeing variablesname,program,dayName.\n",
    "# What will happen to variables (name,program,dayName) and (month,day,year)\n",
    "\n",
    "# name, program and dayName variables change to the new values but month, day and year remain the same value that was defined above\n",
    "\n",
    "\n",
    "myTuple2 = (\"Test\", \"Data Analysis\", \"Tues\")\n",
    "\n",
    "name,program,dayName=myTuple2\n",
    "\n",
    "print(\"Name is:\", name)\n",
    "print(\"Program is:\", program)\n",
    "print(\"dayName is:\", dayName)\n",
    "print(\"Month is:\", month)\n",
    "print(\"Day is:\", day)\n",
    "print(\"Year is:\", year)"
   ]
  },
  {
   "cell_type": "code",
   "execution_count": 9,
   "metadata": {},
   "outputs": [
    {
     "name": "stdout",
     "output_type": "stream",
     "text": [
      "Type Tuple1 <class 'tuple'>\n",
      "Type Tuple2 <class 'tuple'>\n",
      "Type a <class 'str'>\n",
      "Jerry 2 89\n",
      "<class 'tuple'>\n",
      "('Ulan',)\n",
      "Leul\n"
     ]
    }
   ],
   "source": [
    "# Note the following\n",
    "Tuple1=(\"Jerry\",2,89) #This is a tuple with 3 elements \n",
    "Tuple2=(\"Ulan\", )#This is a tuple with 1 element\n",
    "test=\"Leul\" #This is a VARIABLE with string value\n",
    "\n",
    "print(\"Type Tuple1\", type(Tuple1))\n",
    "print(\"Type Tuple2\", type(Tuple2))\n",
    "\n",
    "a,b,c=Tuple1\n",
    "print(\"Type a\",type(a))\n",
    "print(a,b,c)\n",
    "\n",
    "d=Tuple2\n",
    "print(type(d))\n",
    "print(d)\n",
    "\n",
    "e=test\n",
    "print(e)"
   ]
  },
  {
   "cell_type": "code",
   "execution_count": null,
   "metadata": {},
   "outputs": [],
   "source": [
    "#Tuples are immutable\n",
    "#we can always make the testTuple variable reference a new tuple in the memory \n",
    "#and holding different information\n",
    "\n",
    "testTuple=(1,2,3)\n",
    "print(testTuple)\n",
    "\n",
    "testTuple=(4,5,6)\n",
    "print(testTuple)\n",
    "\n",
    "#But we can't change or edit a value for the existing tuple\n",
    "\n",
    "testTuple[0]=6 #ERROR 'tuple' object does not support item assignment\n"
   ]
  },
  {
   "cell_type": "code",
   "execution_count": 11,
   "metadata": {},
   "outputs": [
    {
     "data": {
      "text/plain": [
       "(2021, 3, 30, 'Tuesday', 'JDA', 'NPower')"
      ]
     },
     "execution_count": 11,
     "metadata": {},
     "output_type": "execute_result"
    }
   ],
   "source": [
    "#Q9 Reverse myTuple, output should looks like (\"NPower\",\"JDA\",\"Tuesday\",30,3,2021)\n",
    "tuple(reversed(myTuple))"
   ]
  },
  {
   "cell_type": "code",
   "execution_count": 12,
   "metadata": {},
   "outputs": [
    {
     "data": {
      "text/plain": [
       "(('Coursera', 'course', 6), ('week', (2, 'Lists', 'Tuple')))"
      ]
     },
     "execution_count": 12,
     "metadata": {},
     "output_type": "execute_result"
    }
   ],
   "source": [
    "#Q10 Create nestedTuple=((\"Coursera\",\"course\",6),(\"week\",(2,\"Lists\",\"Tuple\")))\n",
    "\n",
    "nestedTuple=((\"Coursera\",\"course\",6),(\"week\",(2,\"Lists\",\"Tuple\")))\n",
    "nestedTuple"
   ]
  },
  {
   "cell_type": "code",
   "execution_count": 13,
   "metadata": {},
   "outputs": [
    {
     "data": {
      "text/plain": [
       "(('week', (2, 'Lists', 'Tuple')),)"
      ]
     },
     "execution_count": 13,
     "metadata": {},
     "output_type": "execute_result"
    }
   ],
   "source": [
    "#Q11 What is the output of nestedTuple[1:2]\n",
    "nestedTuple[1:2]"
   ]
  },
  {
   "cell_type": "code",
   "execution_count": 14,
   "metadata": {},
   "outputs": [
    {
     "name": "stdout",
     "output_type": "stream",
     "text": [
      "Coursera course 6 week 2 Lists Tuple\n"
     ]
    }
   ],
   "source": [
    "#Q12 print each element in the nestedTuple\n",
    "print(nestedTuple[0][0], nestedTuple[0][1], nestedTuple[0][2], nestedTuple[1][0], nestedTuple[1][1][0], nestedTuple[1][1][1], nestedTuple[1][1][2])"
   ]
  },
  {
   "cell_type": "code",
   "execution_count": 15,
   "metadata": {},
   "outputs": [
    {
     "data": {
      "text/plain": [
       "(2, 'Lists', 'Tuple')"
      ]
     },
     "execution_count": 15,
     "metadata": {},
     "output_type": "execute_result"
    }
   ],
   "source": [
    "#Q13 Access (2,\"Lists\",\"Tuple\") from nestedTuple\n",
    "nestedTuple[1][1]"
   ]
  },
  {
   "cell_type": "code",
   "execution_count": 16,
   "metadata": {},
   "outputs": [
    {
     "data": {
      "text/plain": [
       "'Lists'"
      ]
     },
     "execution_count": 16,
     "metadata": {},
     "output_type": "execute_result"
    }
   ],
   "source": [
    "#Q14 Access \"Lists\" from nestedTuple\n",
    "nestedTuple[1][1][1]"
   ]
  },
  {
   "cell_type": "code",
   "execution_count": 17,
   "metadata": {},
   "outputs": [
    {
     "data": {
      "text/plain": [
       "'Tuple'"
      ]
     },
     "execution_count": 17,
     "metadata": {},
     "output_type": "execute_result"
    }
   ],
   "source": [
    "#Q15 Access \"Tuple\" from nestedTuple\n",
    "nestedTuple[1][1][2]"
   ]
  },
  {
   "cell_type": "code",
   "execution_count": 18,
   "metadata": {},
   "outputs": [
    {
     "data": {
      "text/plain": [
       "'course'"
      ]
     },
     "execution_count": 18,
     "metadata": {},
     "output_type": "execute_result"
    }
   ],
   "source": [
    "#Q16 Access \"course\" from nestedTuple\n",
    "nestedTuple[0][1]"
   ]
  },
  {
   "cell_type": "code",
   "execution_count": 19,
   "metadata": {},
   "outputs": [
    {
     "data": {
      "text/plain": [
       "('NPower',\n",
       " 'JDA',\n",
       " 'Tuesday',\n",
       " 30,\n",
       " 3,\n",
       " 2021,\n",
       " ('Coursera', 'course', 6),\n",
       " ('week', (2, 'Lists', 'Tuple')))"
      ]
     },
     "execution_count": 19,
     "metadata": {},
     "output_type": "execute_result"
    }
   ],
   "source": [
    "#Q17 Concatenate myTuple with nestedTuple\n",
    "myTuple = myTuple + nestedTuple\n",
    "myTuple"
   ]
  },
  {
   "cell_type": "code",
   "execution_count": 20,
   "metadata": {},
   "outputs": [
    {
     "data": {
      "text/plain": [
       "('NPower',\n",
       " 'JDA',\n",
       " 'Tuesday',\n",
       " 30,\n",
       " 3,\n",
       " 2021,\n",
       " ('Coursera', 'course', 6),\n",
       " ('week', (2, 'Lists', 'Tuple')),\n",
       " 'Chloe')"
      ]
     },
     "execution_count": 20,
     "metadata": {},
     "output_type": "execute_result"
    }
   ],
   "source": [
    "#Q18 add your name to the tuple\n",
    "myTuple = myTuple + (\"Chloe\",)\n",
    "myTuple"
   ]
  },
  {
   "cell_type": "code",
   "execution_count": 21,
   "metadata": {},
   "outputs": [
    {
     "data": {
      "text/plain": [
       "False"
      ]
     },
     "execution_count": 21,
     "metadata": {},
     "output_type": "execute_result"
    }
   ],
   "source": [
    "#Q19 check whether Coursera exists within a myTuple\n",
    "\n",
    "# NOTE in doesn't work properly with nested tuples # Wrong output\n",
    "\n",
    "\"Coursera\" in myTuple"
   ]
  },
  {
   "cell_type": "code",
   "execution_count": 22,
   "metadata": {},
   "outputs": [
    {
     "data": {
      "text/plain": [
       "True"
      ]
     },
     "execution_count": 22,
     "metadata": {},
     "output_type": "execute_result"
    }
   ],
   "source": [
    "#Q20 check whether an element exists within a testTuple\n",
    "\n",
    "testTuple = (5, 4, 3, \"test\", 2, 1)\n",
    "\n",
    "\"test\" in testTuple"
   ]
  },
  {
   "cell_type": "code",
   "execution_count": 23,
   "metadata": {},
   "outputs": [
    {
     "data": {
      "text/plain": [
       "1"
      ]
     },
     "execution_count": 23,
     "metadata": {},
     "output_type": "execute_result"
    }
   ],
   "source": [
    "#Q21 Find the index of JDA in myTuple\n",
    "\n",
    "myTuple.index(\"JDA\")\n",
    "\n",
    "# Find the index of 'Coursera' in myTuple\n",
    "# NOTE index doesn't work properly with nested tuples # Wrong output\n",
    "\n",
    "# myTuple.index(\"Coursera\")"
   ]
  },
  {
   "cell_type": "code",
   "execution_count": 24,
   "metadata": {},
   "outputs": [
    {
     "data": {
      "text/plain": [
       "'Chloe'"
      ]
     },
     "execution_count": 24,
     "metadata": {},
     "output_type": "execute_result"
    }
   ],
   "source": [
    "#Q22 print index 8 from myTuple\n",
    "\n",
    "myTuple[8]"
   ]
  },
  {
   "cell_type": "code",
   "execution_count": 27,
   "metadata": {},
   "outputs": [
    {
     "name": "stdout",
     "output_type": "stream",
     "text": [
      "30\n",
      "2021\n"
     ]
    }
   ],
   "source": [
    "#Q23 Get the 4th element and 4th element from last of a myTuple\n",
    "\n",
    "print(myTuple[3])\n",
    "print(myTuple[-4])"
   ]
  },
  {
   "cell_type": "code",
   "execution_count": 26,
   "metadata": {},
   "outputs": [
    {
     "data": {
      "text/plain": [
       "0"
      ]
     },
     "execution_count": 26,
     "metadata": {},
     "output_type": "execute_result"
    }
   ],
   "source": [
    "#Q24 Find how many times 27 appeared in the tuple [Hint: Use method count()]\n",
    "myTuple.count(27)"
   ]
  }
 ],
 "metadata": {
  "kernelspec": {
   "display_name": "Python 3",
   "language": "python",
   "name": "python3"
  },
  "language_info": {
   "codemirror_mode": {
    "name": "ipython",
    "version": 3
   },
   "file_extension": ".py",
   "mimetype": "text/x-python",
   "name": "python",
   "nbconvert_exporter": "python",
   "pygments_lexer": "ipython3",
   "version": "3.8.5"
  }
 },
 "nbformat": 4,
 "nbformat_minor": 4
}
